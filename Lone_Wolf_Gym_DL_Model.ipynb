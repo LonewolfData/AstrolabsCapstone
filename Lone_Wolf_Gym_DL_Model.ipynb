{
  "nbformat": 4,
  "nbformat_minor": 0,
  "metadata": {
    "colab": {
      "name": "Lone_Wolf_Gym_DL_Model.ipynb",
      "private_outputs": true,
      "provenance": [],
      "collapsed_sections": []
    },
    "kernelspec": {
      "name": "python3",
      "display_name": "Python 3"
    },
    "language_info": {
      "name": "python"
    }
  },
  "cells": [
    {
      "cell_type": "code",
      "execution_count": null,
      "metadata": {
        "id": "eSm5KC6iii1k"
      },
      "outputs": [],
      "source": [
        "# Import required libraries\n",
        "import pandas as pd\n",
        "import numpy as np \n",
        "import matplotlib.pyplot as plt\n",
        "import sklearn\n",
        "\n",
        "# Import necessary modules\n",
        "from sklearn.model_selection import train_test_split\n",
        "from sklearn.metrics import mean_squared_error\n",
        "from math import sqrt\n",
        "\n",
        "# Keras specific\n",
        "import keras\n",
        "from keras.models import Sequential\n",
        "from keras.layers import Dense\n",
        "from tensorflow.keras.utils import to_categorical\n",
        "\n"
      ]
    },
    {
      "cell_type": "code",
      "source": [
        "# !zip -r /content/deep-learning_data.zip /content\n"
      ],
      "metadata": {
        "id": "PWXnf21cVVfI"
      },
      "execution_count": null,
      "outputs": []
    },
    {
      "cell_type": "code",
      "source": [
        "df_full = pd.read_csv('./gym_monhtly_billing_training_set.csv') \n",
        "print(df_full.shape)\n",
        "df_full.describe()\n",
        "df_full.head()\n",
        "df = df_full.drop(\"MEMBERSHIP NUMBER\",axis=1,inplace=False)\n",
        "df.head()"
      ],
      "metadata": {
        "id": "0DP5l8mhirwL"
      },
      "execution_count": null,
      "outputs": []
    },
    {
      "cell_type": "code",
      "source": [
        "# The first line of code creates an object of the target variable, while the second line of code gives the list of all the features after excluding the target variable, 'diabetes'.\n",
        "\n",
        "# The third line does normalization of the predictors via scaling between 0 and 1. This is needed to eliminate the influence of the predictor's units and magnitude on the modelling process.\n",
        "\n",
        "# The fourth line displays the summary of the normalized data. The target variable remains unchanged.\n",
        "\n",
        "target_column = ['Paid'] \n",
        "predictors = list(set(list(df.columns))-set(target_column))\n",
        "df[predictors] = df[predictors]/df[predictors].max()\n",
        "df.describe()"
      ],
      "metadata": {
        "id": "mVKE5o9DivMN"
      },
      "execution_count": null,
      "outputs": []
    },
    {
      "cell_type": "code",
      "source": [
        "# Creating the Training and Test Datasets\n",
        "\n",
        "X = df[predictors].values\n",
        "y = df[target_column].values\n",
        "\n",
        "X_train, X_test, y_train, y_test = train_test_split(X, y, test_size=0.30, random_state=40)\n",
        "print(X_train.shape); print(X_test.shape)"
      ],
      "metadata": {
        "id": "aMtkdu9Qjydj"
      },
      "execution_count": null,
      "outputs": []
    },
    {
      "cell_type": "code",
      "source": [
        "# one hot encode target colomn\n",
        "# y_train = to_categorical(y_train)\n",
        "# y_test = to_categorical(y_test)\n",
        "\n",
        "count_classes = y_test.shape[1]\n",
        "print(count_classes)"
      ],
      "metadata": {
        "id": "1KcObTL4kJuk"
      },
      "execution_count": null,
      "outputs": []
    },
    {
      "cell_type": "code",
      "source": [
        "#deep learning model\n",
        "\n",
        "# model = Sequential()\n",
        "# model.add(Dense(500, activation='relu', input_dim=8))\n",
        "# model.add(Dense(100, activation='relu'))\n",
        "# model.add(Dense(50, activation='relu'))\n",
        "# model.add(Dense(1, activation='softmax'))\n",
        "\n",
        "model = Sequential()\n",
        "model.add(Dense(50, activation='relu', input_dim=8))\n",
        "model.add(Dense(100, activation='relu'))\n",
        "model.add(Dense(50, activation='relu'))\n",
        "model.add(Dense(1, activation='sigmoid'))\n",
        "\n",
        "# Compile the model\n",
        "model.compile(optimizer='adam', \n",
        "              loss='binary_crossentropy', #binary\n",
        "              metrics=['accuracy'])\n"
      ],
      "metadata": {
        "id": "e4uzrZqEkfqA"
      },
      "execution_count": null,
      "outputs": []
    },
    {
      "cell_type": "code",
      "source": [
        "# build the model\n",
        "model.fit(X_train, y_train, epochs=50)"
      ],
      "metadata": {
        "id": "KA5BPWqZktZj"
      },
      "execution_count": null,
      "outputs": []
    },
    {
      "cell_type": "code",
      "source": [
        "# Predict on the Test Data and Compute Evaluation Metrics;\n",
        "pred_train= model.predict(X_train)\n",
        "scores = model.evaluate(X_train, y_train, verbose=0)\n",
        "print('Accuracy on training data: {}% \\n Error on training data: {}%'.format(round(scores[1]*100,2), round((1 - scores[1])*100,2)))\n",
        " \n",
        "pred_test= model.predict(X_test)\n",
        "scores2 = model.evaluate(X_test, y_test, verbose=0)\n",
        "print('Accuracy on test data: {}% \\n Error on test data: {}%'.format(round(scores2[1]*100,2), round((1 - scores2[1])*100,2)))\n",
        "\n",
        "\n"
      ],
      "metadata": {
        "id": "2--NB20pkuh9"
      },
      "execution_count": null,
      "outputs": []
    },
    {
      "cell_type": "code",
      "source": [
        "df_Forecastog = pd.read_csv('./gym_monthly_billing_forecast_set.csv') \n",
        "print(df_Forecastog.shape)\n",
        "df_Forecastog.describe()\n",
        "df_Forecastog.head()\n",
        "drop_f=['MEMBERSHIP NUMBER','Total Dues ExVat']\n",
        "df_Forecast = df_Forecastog.drop(drop_f,axis=1,inplace=False)\n",
        "df_Forecast.head()"
      ],
      "metadata": {
        "id": "emktI9lOf08Z"
      },
      "execution_count": null,
      "outputs": []
    },
    {
      "cell_type": "code",
      "source": [
        "#Predict values\n",
        "predictors_Forecast = list(set(list(df_Forecast.columns)))\n",
        "df_Forecast[predictors_Forecast] = df_Forecast[predictors_Forecast]/df_Forecast[predictors_Forecast].max()\n",
        "df_Forecast.describe()\n",
        "\n",
        "# Values to dataframe\n",
        "N = df_Forecast[predictors_Forecast].values\n",
        "pred= model.predict(N)\n",
        "df = pd.DataFrame(pred)\n",
        "\n",
        "# Sort Final Data\n",
        "df_Forecastog[\"DL Estimator\"] = round(df,2)\n",
        "df_Forecastog['DL Outcome'] = df_Forecastog[\"DL Estimator\"].map(lambda x: 1 if x >= .5 else 0)\n",
        "df_Forecastog['Probabilty Adjusted Amount Low'] = df_Forecastog.apply(lambda row: row['Recurring Dues ExVat'] * row['DL Outcome'] ,axis=1)\n",
        "df_Forecastog['Probabilty Adjusted Amount High'] = df_Forecastog.apply(lambda row: row['Total Dues ExVat'] * row['DL Outcome'] ,axis=1)\n",
        "\n",
        "\n",
        "df_Forecastog.head(50)"
      ],
      "metadata": {
        "id": "oH-UiV6Mgoxk"
      },
      "execution_count": null,
      "outputs": []
    },
    {
      "cell_type": "code",
      "source": [
        "f1 = round(sum(df_Forecastog['Probabilty Adjusted Amount Low']))\n",
        "f1Clean = \"{:,}\".format(f1)\n",
        "f2 = round(sum(df_Forecastog['Probabilty Adjusted Amount High']))\n",
        "f2Clean = \"{:,}\".format(f2)\n",
        "f3 = f1-f2\n",
        "f3Clean = \"{:,}\".format(f3)\n",
        "\n",
        "print(\"Forecasted Collection Amount:\",f1Clean,\"AED\",\"->\",f2Clean,\"AED\",)\n",
        "print()\n",
        "print(\"Variance:\",f3Clean,\"AED\")\n",
        "print()\n",
        "print('Accuracy on test data: {}% '.format(round(100*scores2[1], 2)))\n",
        "\n"
      ],
      "metadata": {
        "id": "Lq0ZfxJ1sjh6"
      },
      "execution_count": null,
      "outputs": []
    }
  ]
}